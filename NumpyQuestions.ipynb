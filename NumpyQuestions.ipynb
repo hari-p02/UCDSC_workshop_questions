{
  "nbformat": 4,
  "nbformat_minor": 0,
  "metadata": {
    "colab": {
      "name": "DataScieneNumpyAfterWrkPractice.ipynb",
      "provenance": []
    },
    "kernelspec": {
      "name": "python3",
      "display_name": "Python 3"
    },
    "language_info": {
      "name": "python"
    }
  },
  "cells": [
    {
      "cell_type": "code",
      "source": [
        "import numpy as np\n",
        "from numpy.lib.scimath import sqrt as csqrt\n",
        "import random\n",
        "import time"
      ],
      "metadata": {
        "id": "PiYbOQBEAvgw"
      },
      "execution_count": 1,
      "outputs": []
    },
    {
      "cell_type": "markdown",
      "source": [
        "#Easy: Matrix Multiplication (1 pt)\n",
        "For the first question of this Numpy notebook create the following matrix by using the given three lists (list1, list2 & list3) to create the matrix below. Some useful functions include - \n",
        "```python\n",
        " np.array() #Hint: this function can be used to convert a python list to a numpy array\n",
        " np.reshape() \n",
        " np.dot()\n",
        " ```\n",
        "$output matrix =\n",
        " \\begin{pmatrix}\n",
        "  3 & 2\\\\\n",
        "  1 & 7\\\\\n",
        " \\end{pmatrix}$ \n",
        "<br>\n",
        "Hint: The dimensions of the first matrix should be (2,3) and notice that the output should be a (2,2) matrix. Also remeber that you can only multiply two matricies if the number of columns of the first matrix is equal to the number of rows of the second matrix"
      ],
      "metadata": {
        "id": "WnM6DLF0-Vk2"
      }
    },
    {
      "cell_type": "code",
      "source": [
        "list1 = [3,6,5,2,9,0]\n",
        "list2 = [2,8,2,7,1,9]\n",
        "list3 = [7,4,0,1]\n",
        "# Write code here"
      ],
      "metadata": {
        "id": "sZtDRXkZ_j_m"
      },
      "execution_count": 8,
      "outputs": []
    },
    {
      "cell_type": "markdown",
      "source": [
        "#Medium: Dynammic Programming w/ Numpy\n",
        "\n",
        "Dynammic Programming is an algorthimic technique that allows you to solve problems through the solutions of sub problems.\n",
        "<br>\n",
        "Take for example the fibonacci sequence given by the formula:\n",
        "\n",
        "<img src=\"https://images.ctfassets.net/3s5io6mnxfqz/7whl3QX652UcMHYW55IZfy/248814801a399bea7797c7eb12f7ff83/Screen_Shot_2020-10-14_at_1.57.52_PM.png?fm=jpg&w=800&fl=progressive\" width=\"150\"/>\n",
        "\n",
        "This outputs the seqeunce:\n",
        "$0, 1, 1, 2, 3, 5, 8, 13, 12 ...$\n",
        "\n",
        "The python implmentation for the fibonacci sequence is:\n",
        "```python\n",
        "def fib(n):\n",
        "    if n == 1 or n == 2:\n",
        "        return 1\n",
        "    else:\n",
        "        return fib(n-1) + fib(n-2)\n",
        "```\n",
        "\n",
        "This is a recursive implmentation of the fibonacci sequence (since the function calls itself). This however take a very long time to compute when the input (n) get large. This run in exponential time of $2^n$. Click [here](https://evoniuk.github.io/posts/fibonacci.html) to learn and read more about the time complexity of recursive fibonacci. However a quick explination as to why is because every operation calls the function twice. We can represent this is a tree as follows:\n",
        "\n",
        "<img src=\"https://i.stack.imgur.com/7iU1j.png\" width=\"400\"/>\n",
        "\n",
        "Notice how everytime $fib(n)$ is called, $fib(n)$ makes a call to $fib(n-1)$ and $fib(n-2)$\n",
        "\n",
        "Furthermore, notice how certain $fib(n)$ calls are begin requeted. For example, there are 2 calls to $fib(3)$ and 2 calls to $fib(2)$ etc.\n",
        "\n",
        "So fix this problem (since we call the same function multiple times which is one of the reason why the recursive definition is too slow) we implement a dynamic programming approach. We can avoid the repeated work by storing the Fibonacci numbers calculated so far. \n",
        "```python\n",
        "def fib(n):\n",
        "    # Taking 1st two fibonacci numbers as 0 and 1\n",
        "    f = [0, 1]\n",
        "    for i in range(2, n+1):\n",
        "        f.append(f[i-1] + f[i-2]) #we compute the fib seq and store it in the lsit\n",
        "    return f[n]\n",
        "``` \n",
        "This is significantly faster because we solve the probelm of fib(n) by solving the sub problems at lead up to it and then store it. That way we do not need to repeat any calculations. To learn more about why this works click [here](https://iq.opengenus.org/n-th-fibonacci-number-using-dynamic-programming/).\n",
        "\n",
        "\n",
        "One algorithm used in the field of Natural Language Processing (NLP) is the edit distance algorithm. <b> I will note that before trying this problem you have the get a good understand of this algorithm. So please ask questions! </b> Edit distance is a way of quantifying how dissimilar two strings (e.g., words) are to one another by counting the minimum number of operations required to transform one string into the other. The recursive formula for this algorithm is as follows. \n",
        "\n",
        "<img src=\"https://miro.medium.com/max/1094/1*zL9VPl17oeW4hQiph8766g.png\" width=\"400\"/>\n",
        "\n",
        "Essentially, for the dynammic programming implementation of the fibonacci sequence, the sub problems were solved and then stored into a list. However for the edit distance problem the sub problems are solved and stored into a 2D table. For example, given the strings \"ELEPHANT\" and \"RELEVANT\", the edit distance between the two is 3. So there needs to be 3 operations to change the two words into each other. \n",
        "\n",
        "<img src=\"https://www.ritambhara.in/wp-content/uploads/2016/05/min_Edit_Distance_DP_Table.png\" width=\"700\"/>\n",
        "\n",
        "How do we fill out this table using the recursive formula? Watch this [video](https://www.youtube.com/watch?v=We3YDTzNXEk) to learn how. <b> You have to watch this video to solve this problem </b>\n",
        "\n",
        "Problem: Create a function edit_distance(string1, string2) that returns the edit edit distance of two input strings. Make sure to use numpy functions to solve this.\n",
        "\n",
        "Useful functions include - \n",
        "```python\n",
        "np.zeros()\n",
        "#accessing element within a numpy arrary is also very useful for solving this\n",
        "\n",
        "```\n"
      ],
      "metadata": {
        "id": "5Wh4KJhyEgOk"
      }
    },
    {
      "cell_type": "code",
      "source": [
        "def edit_distance(string1, string2):\n",
        "  #Write Code here\n",
        "  pass"
      ],
      "metadata": {
        "id": "0FVV0APvdZiL"
      },
      "execution_count": null,
      "outputs": []
    },
    {
      "cell_type": "markdown",
      "source": [
        "#Hard: Vectorized Implementation of the Discrete Fourier Transform (DFT)\n",
        "\n",
        "For the purposes of solving this question you do not actually need to know what the DFT is, however if you are curious you can read more about [here](https://www.robots.ox.ac.uk/~sjrob/Teaching/SP/l7.pdf) and watch this [video](https://www.youtube.com/watch?v=nl9TZanwbBk) to get a better inutition.\n",
        "\n",
        "The formula for the DFT is given as follows:\n",
        "\n",
        "<img src=\"https://images.squarespace-cdn.com/content/v1/5230e9f8e4b06ab69d1d8068/1551062445198-50AWK4MBGTX91T37976R/ke17ZwdGBToddI8pDm48kOxSPJF7C3lryFz4mxjX5pJZw-zPPgdn4jUwVcJE1ZvWEtT5uBSRWt4vQZAgTJucoTqqXjS3CfNDSuuf31e0tVE8Nu52Oe9TYUyuz7ktTIALx4NwD9ndt9IFW3zpxXSc-ltO8nJtk629tZGIWiyY3XQ/discrete+Fourier+transform+formula.PNG?format=500w\" width=\"400\"/>\n",
        "\n",
        "Here, $j = sqrt(-1)$, $N$ is equal to the length of the output vector $X$ which is the same length at the input vector $x$, $X(k)$ denotes the $kth$ position of the output vector $X$\n",
        "\n",
        "Below, I have created a vector y of random integers. Understand the attributes of y, and implement a vectorized calculation of the DFT given the above formula.\n",
        "\n",
        "Before you go about this problem, read the run the code cells below to understand what vectorization is. If you already know then you can skip this."
      ],
      "metadata": {
        "id": "3xf782BQVBhk"
      }
    },
    {
      "cell_type": "markdown",
      "source": [
        "##What is vectorization?\n",
        "\n",
        "Vectorization is the process of converting an algorithm from operating on a single value at a time to operating on a set of values at one time.\n",
        "\n",
        "For example, can the folowing formula as an example:\n",
        "<br>\n",
        "$\\sum_{i=1}^n x_i + \\sum_{j=1}^n y_j$\n",
        "<br>\n",
        "Where n = len(x) = len(y).\n",
        "<br>\n",
        "One way to calculate this is as follows (run the code cells below)\n"
      ],
      "metadata": {
        "id": "SXTTkMOyYnIz"
      }
    },
    {
      "cell_type": "code",
      "source": [
        "import random\n",
        "import time\n",
        "random.seed(23)\n",
        "x = random.sample(range(0, 5000000), 1000000)\n",
        "y = random.sample(range(0, 5000000), 1000000)\n",
        "\n",
        "start = time.time()\n",
        "sumx = 0\n",
        "for i in range(0, len(x)):\n",
        "  sumx = sumx + x[i]\n",
        "\n",
        "sumy = 0\n",
        "for i in range(0, len(y)):\n",
        "  sumx = sumx + y[i]\n",
        "\n",
        "res = sumx + sumy\n",
        "\n",
        "end = time.time()\n",
        "print(\"Result: \", res, \"And it took: \", (end - start), \"s\")"
      ],
      "metadata": {
        "colab": {
          "base_uri": "https://localhost:8080/"
        },
        "id": "IpF3aM2LZgSZ",
        "outputId": "3cd363c0-b71e-4ff2-eb9d-a7c14e6d9b24"
      },
      "execution_count": 61,
      "outputs": [
        {
          "output_type": "stream",
          "name": "stdout",
          "text": [
            "Result:  4997494489786 And it took:  0.43595242500305176 s\n"
          ]
        }
      ]
    },
    {
      "cell_type": "markdown",
      "source": [
        "Notice how this nonvectorized (because we are operating on a single value each time) approach took almost a half second to compute.\n",
        "<br>\n",
        "However we can do the exact same computtion much faster with numpy by vecortization (run the code cells below)"
      ],
      "metadata": {
        "id": "08bCSY68azru"
      }
    },
    {
      "cell_type": "code",
      "source": [
        "start = time.time()\n",
        "x = np.array(x)\n",
        "y = np.array(y)\n",
        "\n",
        "res = np.sum(x) + np.sum(y)\n",
        "\n",
        "end = time.time()\n",
        "print(\"Result: \", res, \"And it took: \", (end - start), \"s\")"
      ],
      "metadata": {
        "colab": {
          "base_uri": "https://localhost:8080/"
        },
        "id": "zacFXubybSXx",
        "outputId": "8ee3cdc4-1eb9-44e2-cca2-7257d62570af"
      },
      "execution_count": 63,
      "outputs": [
        {
          "output_type": "stream",
          "name": "stdout",
          "text": [
            "Result:  4997494489786 And it took:  0.008933544158935547 s\n"
          ]
        }
      ]
    },
    {
      "cell_type": "markdown",
      "source": [
        "This approach was significantly faster and got the same result due to the use of numpy. In Data science this is a very common technique to speed by computation.\n",
        "<br>\n",
        "Below, write a vectorized implementation of the DFT, some useful functions are\n",
        "```python\n",
        "csqrt(-1) #give you the sqrt(-1) which is j in the dft\n",
        "np.reshape()\n",
        "np.arange()\n",
        "np.multiply()\n",
        "np.sum()\n",
        "np.exp()\n",
        "```\n",
        "<br>\n",
        "You might not need all of these functions and feel free use other functions as well. "
      ],
      "metadata": {
        "id": "LwXsBnj9b8nQ"
      }
    },
    {
      "cell_type": "code",
      "source": [
        "np.random.seed(5)\n",
        "y = np.random.randint(200, size=(1, 100))\n",
        "#Write Code here"
      ],
      "metadata": {
        "id": "j2f9femeN5Z_"
      },
      "execution_count": 49,
      "outputs": []
    }
  ]
}